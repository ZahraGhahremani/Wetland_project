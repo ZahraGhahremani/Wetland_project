{
 "cells": [
  {
   "cell_type": "code",
   "execution_count": null,
   "metadata": {},
   "outputs": [],
   "source": [
    "# Re project the mask to have the same projection as the segmentation\n",
    "from osgeo import gdal\n",
    "original_mask = gdal.Open('/mnt/c/Lynker/Beaver_project/NDWI/GSW/Images/GSW.tif') # Path to the mask\n",
    "segmentation_tile = gdal.Open('/mnt/c/Lynker/Beaver_project/S3/outputs/m_3810454_nw_13_060_20190921.tif') # Path to the segmentation\n",
    "rc_crs = segmentation_tile.GetProjection()\n",
    "target_crs = 'EPSG:26913'  # Change this if needed\n",
    "output_reproject = gdal.Warp('/mnt/c/Lynker/Beaver_project/NDWI/GSW/Images/new_gdal_reproject_gsw.tif', original_mask, dstSRS = target_crs) # Save the output"
   ]
  },
  {
   "cell_type": "code",
   "execution_count": null,
   "metadata": {},
   "outputs": [],
   "source": []
  }
 ],
 "metadata": {
  "language_info": {
   "name": "python"
  },
  "orig_nbformat": 4
 },
 "nbformat": 4,
 "nbformat_minor": 2
}
