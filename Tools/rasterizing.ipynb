{
 "cells": [
  {
   "cell_type": "code",
   "execution_count": null,
   "metadata": {},
   "outputs": [],
   "source": [
    "import geopandas as gpd\n",
    "import rasterio\n",
    "from rasterio.features import rasterize\n",
    "from rasterio.transform import from_origin\n",
    "import os\n",
    "\n",
    "# Directory containing the shapefiles\n",
    "shapefile_dir = '/path/to/shapefile/directory/'\n",
    "\n",
    "# output directory for tif files\n",
    "output_raster_dir = '/path/to/raster/output/'\n",
    "\n",
    "# Iterate through each shapefile in the directory\n",
    "for shapefile in os.listdir(shapefile_dir):\n",
    "    if shapefile.endswith('.shp'):\n",
    "        shp_path = os.path.join(shapefile_dir, shapefile)\n",
    "        gdf = gpd.read_file(shp_path)\n",
    "        \n",
    "        \n",
    "        gdf['landclass'] = gdf['landclass'].astype(int)\n",
    "        gdf = gdf.dropna(subset=['landclass'])\n",
    "        \n",
    "        raster_file = os.path.join(output_raster_dir, f\"{os.path.splitext(shapefile)[0]}_raster.tif\")\n",
    "        \n",
    "        pixel_size = 2\n",
    "        minx, miny, maxx, maxy = gdf.total_bounds\n",
    "        transform = from_origin(minx, maxy, pixel_size, pixel_size)\n",
    "\n",
    "        width = int((maxx - minx) / pixel_size)\n",
    "        height = int((maxy - miny) / pixel_size)\n",
    "\n",
    "        # Write the raster data\n",
    "        with rasterio.open(raster_file, 'w', driver='GTiff', \n",
    "                           height=height, width=width, count=1, dtype='uint8',\n",
    "                           crs=gdf.crs, transform=transform) as dst:\n",
    "\n",
    "            # Rasterizing\n",
    "            burned = rasterize(\n",
    "                ((geom, value) for geom, value in zip(gdf.geometry, gdf['landclass'])),\n",
    "                out_shape=(height, width),\n",
    "                transform=transform,\n",
    "                fill=0,  \n",
    "                dtype='uint8'\n",
    "            )\n",
    "            \n",
    "            dst.write(burned, 1) \n"
   ]
  }
 ],
 "metadata": {
  "language_info": {
   "name": "python"
  }
 },
 "nbformat": 4,
 "nbformat_minor": 2
}
